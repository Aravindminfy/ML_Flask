{
 "cells": [
  {
   "cell_type": "code",
   "execution_count": 15,
   "id": "0c5aaeed",
   "metadata": {},
   "outputs": [],
   "source": [
    "import pandas as pd\n",
    "import numpy as np\n",
    "import matplotlib.pyplot as plt\n"
   ]
  },
  {
   "cell_type": "markdown",
   "id": "ed5c07b7",
   "metadata": {},
   "source": [
    "# Main data and New data"
   ]
  },
  {
   "cell_type": "code",
   "execution_count": 16,
   "id": "f121d872",
   "metadata": {},
   "outputs": [
    {
     "data": {
      "text/plain": [
       "(5000, 14)"
      ]
     },
     "execution_count": 16,
     "metadata": {},
     "output_type": "execute_result"
    }
   ],
   "source": [
    "df = pd.read_csv(r'C:\\Users\\Minfy.DESKTOP-3E50D5N\\Documents\\mlflow_ml\\Bank_Personal_Loan_Modelling.csv')\n",
    "df.shape"
   ]
  },
  {
   "cell_type": "code",
   "execution_count": 17,
   "id": "64eee76c",
   "metadata": {},
   "outputs": [
    {
     "data": {
      "text/plain": [
       "(15, 13)"
      ]
     },
     "execution_count": 17,
     "metadata": {},
     "output_type": "execute_result"
    }
   ],
   "source": [
    "df_test = pd.read_csv(r'c:\\Users\\Minfy.DESKTOP-3E50D5N\\Downloads\\New Customer Bank_Personal_Loan.csv')\n",
    "df_test.shape"
   ]
  },
  {
   "cell_type": "code",
   "execution_count": 18,
   "id": "fa468a84",
   "metadata": {},
   "outputs": [],
   "source": [
    "df_main = df.drop(columns=['Personal Loan'])"
   ]
  },
  {
   "cell_type": "code",
   "execution_count": 19,
   "id": "5150720b",
   "metadata": {},
   "outputs": [
    {
     "data": {
      "text/plain": [
       "Index(['ID', 'Age', 'Experience', 'Income', 'ZIP Code', 'Family', 'CCAvg',\n",
       "       'Education', 'Mortgage', 'Securities Account', 'CD Account', 'Online',\n",
       "       'CreditCard'],\n",
       "      dtype='object')"
      ]
     },
     "execution_count": 19,
     "metadata": {},
     "output_type": "execute_result"
    }
   ],
   "source": [
    "df_main.columns"
   ]
  },
  {
   "cell_type": "code",
   "execution_count": 20,
   "id": "3798cba7",
   "metadata": {},
   "outputs": [
    {
     "data": {
      "text/plain": [
       "((5000, 13), (15, 13))"
      ]
     },
     "execution_count": 20,
     "metadata": {},
     "output_type": "execute_result"
    }
   ],
   "source": [
    "df_main.shape, df_test.shape"
   ]
  },
  {
   "cell_type": "code",
   "execution_count": 21,
   "id": "840cbc10",
   "metadata": {},
   "outputs": [],
   "source": [
    "import pandas as pd\n",
    "from evidently import Report\n",
    "from evidently.presets import DataDriftPreset"
   ]
  },
  {
   "cell_type": "markdown",
   "id": "f9778fa0",
   "metadata": {},
   "source": []
  },
  {
   "cell_type": "code",
   "execution_count": 22,
   "id": "ce401667",
   "metadata": {},
   "outputs": [],
   "source": [
    "\n",
    "reports = Report([DataDriftPreset(columns=[ 'Age', 'Experience', 'Income', 'Family', 'CCAvg',\n",
    "       'Education', 'Mortgage', 'Securities Account', 'CD Account', 'Online',\n",
    "       'CreditCard'])])\n",
    "report=reports.run(reference_data=df_main, current_data=df_test)\n"
   ]
  },
  {
   "cell_type": "code",
   "execution_count": 23,
   "id": "2bf35300",
   "metadata": {},
   "outputs": [],
   "source": [
    "report.save_html(\"evidently_Report.html\")"
   ]
  },
  {
   "cell_type": "code",
   "execution_count": 11,
   "id": "1f45164a",
   "metadata": {},
   "outputs": [
    {
     "data": {
      "text/plain": [
       "'{\"metrics\": [{\"id\": \"45850336a9bbeb8c466e31a93cc786ce\", \"metric_id\": \"DriftedColumnsCount(columns=Age,Experience,Income,Family,CCAvg,Education,Mortgage,Securities Account,CD Account,Online,CreditCard,drift_share=0.5)\", \"value\": {\"count\": 10.0, \"share\": 0.9090909090909091}}, {\"id\": \"8f5d1c60a32d6fc1bd54bc53af61d8e8\", \"metric_id\": \"ValueDrift(column=Age)\", \"value\": 0.6921177228051255}, {\"id\": \"d7a4a7f023b351f2a15c5725bddd463d\", \"metric_id\": \"ValueDrift(column=Experience)\", \"value\": 0.6715906280833273}, {\"id\": \"c0d4e4e971dc7208709fd8de755d0ee9\", \"metric_id\": \"ValueDrift(column=Income)\", \"value\": 0.2398756546956939}, {\"id\": \"514b7f0c04de7eb83ad9016cb4863e07\", \"metric_id\": \"ValueDrift(column=Family)\", \"value\": 0.16127758354467472}, {\"id\": \"1cdb62269d4036059a9bb0bb92c37a2d\", \"metric_id\": \"ValueDrift(column=CCAvg)\", \"value\": 0.19465125861911411}, {\"id\": \"12a293d8c8fad4b7911d782a75e321d1\", \"metric_id\": \"ValueDrift(column=Education)\", \"value\": 0.1222959142354372}, {\"id\": \"769ab51f15516ec5c50b676e3286ba98\", \"metric_id\": \"ValueDrift(column=Mortgage)\", \"value\": 0.4026002059724937}, {\"id\": \"4c3bd0954d8c729f2205576ae3a5fe7d\", \"metric_id\": \"ValueDrift(column=Securities Account)\", \"value\": 0.19395995865160828}, {\"id\": \"8f53a04b5793d733e73664daea21e089\", \"metric_id\": \"ValueDrift(column=CD Account)\", \"value\": 0.14629880909999904}, {\"id\": \"9b89961e54dd3e127e4a89bed16b0419\", \"metric_id\": \"ValueDrift(column=Online)\", \"value\": 0.09233765401777727}, {\"id\": \"4be2808884bfc6214cb5e1d5696b23bd\", \"metric_id\": \"ValueDrift(column=CreditCard)\", \"value\": 0.21583862376145718}], \"tests\": []}'"
      ]
     },
     "execution_count": 11,
     "metadata": {},
     "output_type": "execute_result"
    }
   ],
   "source": [
    "drift_metrix = report.json()\n",
    "drift_metrix"
   ]
  },
  {
   "cell_type": "code",
   "execution_count": 12,
   "id": "1ceab54c",
   "metadata": {},
   "outputs": [
    {
     "name": "stdout",
     "output_type": "stream",
     "text": [
      "🏃 View run sincere-tern-555 at: http://localhost:5000/#/experiments/415887779351301810/runs/f5174bfeeed442c199105084ade779d4\n",
      "🧪 View experiment at: http://localhost:5000/#/experiments/415887779351301810\n"
     ]
    }
   ],
   "source": [
    "import json\n",
    "import mlflow\n",
    "import re\n",
    "\n",
    "# Set the MLflow tracking URI to your server's URL\n",
    "mlflow.set_tracking_uri(\"http://localhost:5000\")  # change to your MLflow tracking server address\n",
    "mlflow.set_experiment(\"Evidently Drift Metrics\")  # change to your experiment name\n",
    "json_str = drift_metrix\n",
    "report_dict = json.loads(json_str)\n",
    "\n",
    "def clean_metric_name(name):\n",
    "    if \"ValueDrift(column=\" in name:\n",
    "        match = re.search(r\"ValueDrift\\(column=(.*?)\\)\", name)\n",
    "        if match:\n",
    "            return f\"drift_{match.group(1)}\"\n",
    "    elif \"DriftedColumnsCount\" in name:\n",
    "        return \"drifted_column_count\"\n",
    "    cleaned = re.sub(r\"[^a-zA-Z0-9_\\-./]\", \"_\", name)\n",
    "    return cleaned[:50]\n",
    "\n",
    "with mlflow.start_run() as run:\n",
    "    for metric in report_dict[\"metrics\"]:\n",
    "        raw_name = metric[\"metric_id\"]\n",
    "        value = metric[\"value\"]\n",
    "        if isinstance(value, dict):\n",
    "            for k, v in value.items():\n",
    "                metric_name = f\"{raw_name}_{k}\"\n",
    "                cleaned_name = clean_metric_name(metric_name)\n",
    "                mlflow.log_metric(cleaned_name, v)\n",
    "        else:\n",
    "            cleaned_name = clean_metric_name(raw_name)\n",
    "            mlflow.log_metric(cleaned_name, value)\n",
    "\n",
    "    with open(\"evidently_report.json\", \"w\") as f:\n",
    "        json.dump(report_dict, f, indent=2)\n",
    "    mlflow.log_artifact(\"evidently_report.json\")\n"
   ]
  },
  {
   "cell_type": "markdown",
   "id": "e8872bd9",
   "metadata": {},
   "source": [
    "# test and train split data drift"
   ]
  },
  {
   "cell_type": "code",
   "execution_count": 24,
   "id": "53d93fbe",
   "metadata": {},
   "outputs": [],
   "source": [
    "from sklearn.model_selection import train_test_split\n",
    "X_train, X_test = train_test_split(df_main, test_size=0.2, random_state=42)"
   ]
  },
  {
   "cell_type": "code",
   "execution_count": 25,
   "id": "f384c6c8",
   "metadata": {},
   "outputs": [
    {
     "data": {
      "text/plain": [
       "((4000, 13), (1000, 13))"
      ]
     },
     "execution_count": 25,
     "metadata": {},
     "output_type": "execute_result"
    }
   ],
   "source": [
    "X_train.shape, X_test.shape"
   ]
  },
  {
   "cell_type": "code",
   "execution_count": 29,
   "id": "72cbca6c",
   "metadata": {},
   "outputs": [],
   "source": [
    "report1 = Report([DataDriftPreset()])\n",
    "\n",
    "report1 = report1.run(reference_data=X_train, current_data=X_test)   "
   ]
  },
  {
   "cell_type": "code",
   "execution_count": null,
   "id": "d7d52afe",
   "metadata": {},
   "outputs": [],
   "source": [
    "report1_metrix = report1.json()\n",
    "report1.save_html(\"evidently_Report1.html\")"
   ]
  },
  {
   "cell_type": "code",
   "execution_count": 32,
   "id": "e9d3547f",
   "metadata": {},
   "outputs": [
    {
     "name": "stdout",
     "output_type": "stream",
     "text": [
      "🏃 View run capable-crane-119 at: http://localhost:5000/#/experiments/415887779351301810/runs/f0aba4e9d9d541c7b5f9d37fe5e043f9\n",
      "🧪 View experiment at: http://localhost:5000/#/experiments/415887779351301810\n"
     ]
    }
   ],
   "source": [
    "import json\n",
    "import mlflow\n",
    "import re\n",
    "\n",
    "# Set the MLflow tracking URI to your server's URL\n",
    "mlflow.set_tracking_uri(\"http://localhost:5000\")  # change to your MLflow tracking server address\n",
    "mlflow.set_experiment(\"Evidently Drift Metrics\")  # change to your experiment name\n",
    "json_str = report1_metrix\n",
    "report_dict = json.loads(json_str)\n",
    "\n",
    "def clean_metric_name(name):\n",
    "    if \"ValueDrift(column=\" in name:\n",
    "        match = re.search(r\"ValueDrift\\(column=(.*?)\\)\", name)\n",
    "        if match:\n",
    "            return f\"drift_{match.group(1)}\"\n",
    "    elif \"DriftedColumnsCount\" in name:\n",
    "        return \"drifted_column_count\"\n",
    "    cleaned = re.sub(r\"[^a-zA-Z0-9_\\-./]\", \"_\", name)\n",
    "    return cleaned[:50]\n",
    "\n",
    "with mlflow.start_run() as run:\n",
    "    for metric in report_dict[\"metrics\"]:\n",
    "        raw_name = metric[\"metric_id\"]\n",
    "        value = metric[\"value\"]\n",
    "        if isinstance(value, dict):\n",
    "            for k, v in value.items():\n",
    "                metric_name = f\"{raw_name}_{k}\"\n",
    "                cleaned_name = clean_metric_name(metric_name)\n",
    "                mlflow.log_metric(cleaned_name, v)\n",
    "        else:\n",
    "            cleaned_name = clean_metric_name(raw_name)\n",
    "            mlflow.log_metric(cleaned_name, value)\n",
    "\n",
    "    with open(\"evidently_report.json\", \"w\") as f:\n",
    "        json.dump(report_dict, f, indent=2)\n",
    "    mlflow.log_artifact(\"evidently_report.json\")\n"
   ]
  },
  {
   "cell_type": "code",
   "execution_count": null,
   "id": "6a27517e",
   "metadata": {},
   "outputs": [],
   "source": []
  }
 ],
 "metadata": {
  "kernelspec": {
   "display_name": "mlflow-env",
   "language": "python",
   "name": "python3"
  },
  "language_info": {
   "codemirror_mode": {
    "name": "ipython",
    "version": 3
   },
   "file_extension": ".py",
   "mimetype": "text/x-python",
   "name": "python",
   "nbconvert_exporter": "python",
   "pygments_lexer": "ipython3",
   "version": "3.13.3"
  }
 },
 "nbformat": 4,
 "nbformat_minor": 5
}
